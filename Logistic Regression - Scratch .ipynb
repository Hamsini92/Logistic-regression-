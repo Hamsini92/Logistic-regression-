{
 "cells": [
  {
   "cell_type": "code",
   "execution_count": 6,
   "metadata": {
    "collapsed": true
   },
   "outputs": [],
   "source": [
    "#Linear Algebra\n",
    "import numpy as np #linear Algebra \n",
    "import pandas as pd # for reading csv files "
   ]
  },
  {
   "cell_type": "code",
   "execution_count": 29,
   "metadata": {
    "collapsed": true
   },
   "outputs": [],
   "source": [
    "from sklearn.preprocessing import LabelEncoder\n",
    "from sklearn.metrics import accuracy_score\n",
    "import matplotlib.pylab as plt\n",
    "import seaborn as sns\n",
    "import pandas as pd\n",
    "import numpy as np\n",
    "import random\n",
    "import warnings\n",
    "warnings.filterwarnings('ignore')"
   ]
  },
  {
   "cell_type": "code",
   "execution_count": 30,
   "metadata": {},
   "outputs": [
    {
     "name": "stdout",
     "output_type": "stream",
     "text": [
      "There are 891 examples in the training set and 418 examples in the test set\n",
      "\n",
      "\n",
      "The different variables that we have at our disposal are : PassengerId,Survived,Pclass,Name,Sex,Age,SibSp,Parch,Ticket,Fare,Cabin,Embarked\n"
     ]
    }
   ],
   "source": [
    "train_csv = pd.read_csv('/Users/hamsinisankaran/Downloads/titanic/train.csv')\n",
    "test_csv = pd.read_csv('/Users/hamsinisankaran/Downloads/titanic/test.csv')\n",
    "\n",
    "#counting the number of examples in the training and the test dataset \n",
    "print('There are %s examples in the training set and %s examples in the test set'% (train_csv.shape[0], test_csv.shape[0]))\n",
    "print('\\n')\n",
    "print('The different variables that we have at our disposal are : %s' % ','.join(list(train_csv.columns)))"
   ]
  },
  {
   "cell_type": "code",
   "execution_count": 31,
   "metadata": {},
   "outputs": [
    {
     "data": {
      "image/png": "[encoded data removed]",
      "text/plain": [
       "<matplotlib.figure.Figure at 0x108900f28>"
      ]
     },
     "metadata": {},
     "output_type": "display_data"
    }
   ],
   "source": [
    "plt.figure()\n",
    "plt.suptitle('Proportion of male and female that survived')\n",
    "g = sns.countplot(x=\"Sex\", hue='Survived', data=train_csv);\n",
    "plt.show()"
   ]
  },
  {
   "cell_type": "code",
   "execution_count": 32,
   "metadata": {},
   "outputs": [
    {
     "data": {
      "image/png": "[encoded data removed]",
      "text/plain": [
       "<matplotlib.figure.Figure at 0x10883a198>"
      ]
     },
     "metadata": {},
     "output_type": "display_data"
    }
   ],
   "source": [
    "plt.figure()\n",
    "plt.suptitle('Proportion of people that survived depending on their socio-economic status')\n",
    "g = sns.countplot(x=\"Pclass\", hue='Survived', data=train_csv);\n",
    "plt.show()"
   ]
  },
  {
   "cell_type": "code",
   "execution_count": 33,
   "metadata": {},
   "outputs": [],
   "source": [
    "#model building \n",
    "def label_encoding(dataframe, labels):\n",
    "    \"\"\"\n",
    "    Encode categorical variable into numerical values\n",
    "    \"\"\"\n",
    "    le = LabelEncoder()\n",
    "    for label in labels:\n",
    "        le.fit(dataframe[label])\n",
    "        dataframe[label] = le.transform(dataframe[label])\n",
    "\n",
    "    return dataframe\n",
    "\n",
    "def normalize_features(X_train):\n",
    "    \"\"\"\"\"\"\n",
    "    #Normalize the features by substracting the mean \n",
    "    #and dividing by the standard deviation\n",
    "    \"\"\"\"\"\"\n",
    "    for features in X_train:\n",
    "        feats = X_train[features].tolist()\n",
    "        mean = np.mean(feats)\n",
    "        std = np.std(feats)\n",
    "        feats = (feats - mean)/std\n",
    "        X_train[features] = feats\n",
    "    return X_train\n",
    "\n",
    "def get_training_data():\n",
    "    \"clean the data by preprocessing and removing the nan values\"\n",
    "    train_csv = pd.read_csv('/Users/hamsinisankaran/Downloads/titanic/train.csv')\n",
    "    train_csv['Cabin'] = train_csv['Cabin'].fillna('C0')\n",
    "    train_csv['Embarked'] = train_csv['Embarked'].fillna('0')\n",
    "    train_csv['Age'] = train_csv['Age'].fillna(train_csv['Age'].mean())\n",
    "    train_csv = label_encoding(train_csv, ['Sex', 'Ticket', 'Cabin', 'Embarked'])\n",
    "    X_train = train_csv[['Pclass', 'Sex', 'Age',  'SibSp', 'Parch', 'Ticket', 'Fare', 'Cabin', 'Embarked']]\n",
    "    Y_train = train_csv['Survived']\n",
    "    normalize_features(X_train)\n",
    "    return X_train.as_matrix(), Y_train.as_matrix()\n",
    "\n",
    "def get_testing_data():\n",
    "    test_csv = pd.read_csv('/Users/hamsinisankaran/Downloads/titanic/test.csv')\n",
    "    test_csv['Cabin'] = test_csv['Cabin'].fillna('C0')\n",
    "    test_csv['Embarked'] = test_csv['Embarked'].fillna('0')\n",
    "    test_csv['Age'] = test_csv['Age'].fillna(test_csv['Age'].mean())\n",
    "    test_csv['Fare'] = test_csv['Fare'].fillna(test_csv['Fare'].mean())\n",
    "    test_csv = label_encoding(test_csv, ['Sex', 'Ticket', 'Cabin', 'Embarked'])\n",
    "    X_test = test_csv[['Pclass', 'Sex', 'Age', 'SibSp', 'Parch', 'Ticket', 'Fare', 'Cabin', 'Embarked']]\n",
    "    normalize_features(X_test)\n",
    "    return X_test.as_matrix(), test_csv['PassengerId']\n"
   ]
  },
  {
   "cell_type": "code",
   "execution_count": 34,
   "metadata": {
    "collapsed": true
   },
   "outputs": [],
   "source": [
    "#logistic Regression"
   ]
  },
  {
   "cell_type": "code",
   "execution_count": 64,
   "metadata": {},
   "outputs": [
    {
     "name": "stdout",
     "output_type": "stream",
     "text": [
      "epoch 0 - loss 0.7047537856866997\n",
      "epoch 10 - loss 0.6390524840507827\n",
      "epoch 20 - loss 0.5938013796219711\n",
      "epoch 30 - loss 0.5616522018558876\n",
      "epoch 40 - loss 0.5380859792344106\n",
      "epoch 50 - loss 0.5203230983358994\n",
      "epoch 60 - loss 0.5066115230465729\n",
      "epoch 70 - loss 0.49581175096627556\n",
      "epoch 80 - loss 0.4871590002241981\n",
      "epoch 90 - loss 0.48012484671245614\n",
      "epoch 100 - loss 0.4743345492207695\n",
      "epoch 110 - loss 0.46951616512872646\n",
      "epoch 120 - loss 0.46546830638341297\n",
      "epoch 130 - loss 0.46203914129078233\n",
      "epoch 140 - loss 0.45911237273834593\n",
      "epoch 150 - loss 0.4565976593416599\n",
      "epoch 160 - loss 0.4544239355094761\n",
      "epoch 170 - loss 0.4525346654967542\n",
      "epoch 180 - loss 0.4508844141415142\n",
      "epoch 190 - loss 0.449436330757576\n",
      "epoch 200 - loss 0.44816027711321826\n",
      "epoch 210 - loss 0.44703141678208175\n",
      "epoch 220 - loss 0.4460291396985031\n",
      "epoch 230 - loss 0.44513623344300357\n",
      "epoch 240 - loss 0.4443382383283655\n",
      "epoch 250 - loss 0.4436229409344976\n",
      "epoch 260 - loss 0.4429799730080692\n",
      "epoch 270 - loss 0.4424004913178595\n",
      "epoch 280 - loss 0.4418769202664949\n",
      "epoch 290 - loss 0.441402743555208\n"
     ]
    }
   ],
   "source": [
    "X_train, Y_train = get_training_data()\n",
    "# Hyperparameters initialization\n",
    "lr = 0.05\n",
    "\n",
    "#parameters initialization \n",
    "weights = np.random.normal(0, 0.1, 9)\n",
    "biais = random.normalvariate(0, 0.1)\n",
    "\n",
    "m = X_train.shape[0]\n",
    "for epoch in range(300):\n",
    "    \n",
    "    # Forward pass\n",
    "        Z = np.dot(X_train, weights) + biais\n",
    "        A = 1 / (1 + np.exp(-Z))\n",
    "        \n",
    "    #Loss Computation\n",
    "        J = np.sum(-(Y_train * np.log(A) + (1 - Y_train) * np.log(1 - A))) / m\n",
    "    \n",
    "    # Gradient computation\n",
    "        dZ = A - Y_train\n",
    "        dw = np.dot(dZ, X_train) / m\n",
    "        db = np.sum(dZ) / m\n",
    "\n",
    "        # Update weights\n",
    "        weights = weights - lr * dw\n",
    "        biais = biais - lr * db\n",
    "\n",
    "        if epoch % 10 == 0:\n",
    "            print(\"epoch %s - loss %s\" % (epoch, J))\n",
    "\n",
    "         \n",
    "            "
   ]
  },
  {
   "cell_type": "code",
   "execution_count": 68,
   "metadata": {},
   "outputs": [
    {
     "data": {
      "text/plain": [
       "37"
      ]
     },
     "execution_count": 68,
     "metadata": {},
     "output_type": "execute_result"
    }
   ],
   "source": [
    "#Logistic Regression Prediction \n",
    "X_test, PassengerId = get_testing_data()\n",
    "\n",
    "preds = []\n",
    "for feats in X_test:\n",
    "    z = np.dot(feats, weights) + biais\n",
    "    a = 1 / (1 + np.exp(-z))\n",
    "\n",
    "    if a > 0.5:\n",
    "        preds.append(1)\n",
    "    elif a <= 0.5:\n",
    "        preds.append(0)\n",
    "sample_ids = np.random.choice(PassengerId, 100)\n",
    "\n",
    "for id, value in enumerate(sample_ids):\n",
    "     mylist = ['Passenger id \\t  Survived \\n %s %s' % (value, preds[id])]\n",
    "        \n",
    "out = csv.writer(open(\"myfile.csv\",\"w\"), delimiter=',')\n",
    "out.writerow(mylist)\n",
    "        \n",
    "#gendermodel_csv = pd.read_csv('/Users/hamsinisankaran/Downloads/titanic/gender_submission.csv')\n",
    "#accuracy = accuracy_score(list(gendermodel_csv['Survived']), preds)\n",
    "#print('\\n')\n",
    "#print('The accuracy of the model is of %s : ' % accuracy)\n",
    "        "
   ]
  },
  {
   "cell_type": "code",
   "execution_count": null,
   "metadata": {
    "collapsed": true
   },
   "outputs": [],
   "source": []
  },
  {
   "cell_type": "code",
   "execution_count": null,
   "metadata": {
    "collapsed": true
   },
   "outputs": [],
   "source": []
  }
 ],
 "metadata": {
  "kernelspec": {
   "display_name": "Python 3",
   "language": "python",
   "name": "python3"
  },
  "language_info": {
   "codemirror_mode": {
    "name": "ipython",
    "version": 3
   },
   "file_extension": ".py",
   "mimetype": "text/x-python",
   "name": "python",
   "nbconvert_exporter": "python",
   "pygments_lexer": "ipython3",
   "version": "3.6.3"
  }
 },
 "nbformat": 4,
 "nbformat_minor": 2
}
